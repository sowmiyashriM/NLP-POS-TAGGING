{
  "cells": [
    {
      "cell_type": "code",
      "execution_count": 19,
      "id": "e4c8e6bf",
      "metadata": {
        "id": "e4c8e6bf"
      },
      "outputs": [],
      "source": [
        "import nltk\n",
        "from nltk.stem import PorterStemmer, WordNetLemmatizer\n",
        "from nltk.corpus import stopwords"
      ]
    },
    {
      "cell_type": "code",
      "source": [
        "nltk.download('punkt')\n",
        "nltk.download('stopwords')\n",
        "nltk.download('wordnet')\n",
        "nltk.download('averaged_perceptron_tagger')\n",
        "nltk.download('tagsets')"
      ],
      "metadata": {
        "colab": {
          "base_uri": "https://localhost:8080/"
        },
        "id": "eINzDH1RHyuY",
        "outputId": "a145baf0-14d1-40cc-f257-82729e87c8ea"
      },
      "id": "eINzDH1RHyuY",
      "execution_count": 20,
      "outputs": [
        {
          "output_type": "stream",
          "name": "stderr",
          "text": [
            "[nltk_data] Downloading package punkt to /root/nltk_data...\n",
            "[nltk_data]   Package punkt is already up-to-date!\n",
            "[nltk_data] Downloading package stopwords to /root/nltk_data...\n",
            "[nltk_data]   Package stopwords is already up-to-date!\n",
            "[nltk_data] Downloading package wordnet to /root/nltk_data...\n",
            "[nltk_data]   Package wordnet is already up-to-date!\n",
            "[nltk_data] Downloading package averaged_perceptron_tagger to\n",
            "[nltk_data]     /root/nltk_data...\n",
            "[nltk_data]   Package averaged_perceptron_tagger is already up-to-\n",
            "[nltk_data]       date!\n",
            "[nltk_data] Downloading package tagsets to /root/nltk_data...\n",
            "[nltk_data]   Package tagsets is already up-to-date!\n"
          ]
        },
        {
          "output_type": "execute_result",
          "data": {
            "text/plain": [
              "True"
            ]
          },
          "metadata": {},
          "execution_count": 20
        }
      ]
    },
    {
      "cell_type": "code",
      "execution_count": 21,
      "id": "2e35d6ba",
      "metadata": {
        "id": "2e35d6ba"
      },
      "outputs": [],
      "source": [
        "para = \"\"\"You look up at the beautiful sky and see all the stars twinkling away. And the luminous moon with its dull glow. But did you know that stars don’t really twinkle, it’s actually an illusion? And the moon does not emit any light of its own, it only reflects light from the sun. Let us explore our galaxy and learn other such captivating facts about the moon and stars\"\"\""
      ]
    },
    {
      "cell_type": "code",
      "execution_count": 22,
      "id": "d93c50b9",
      "metadata": {
        "id": "d93c50b9"
      },
      "outputs": [],
      "source": [
        "# Tokenize sentences and words\n",
        "sentences = nltk.sent_tokenize(para)\n",
        "words = nltk.word_tokenize(para)"
      ]
    },
    {
      "cell_type": "code",
      "source": [
        "# Initialize PorterStemmer and WordNetLemmatizer\n",
        "stemmer = PorterStemmer()\n",
        "lemmatizer = WordNetLemmatizer()"
      ],
      "metadata": {
        "id": "l4oMr6stIwik"
      },
      "id": "l4oMr6stIwik",
      "execution_count": 23,
      "outputs": []
    },
    {
      "cell_type": "code",
      "source": [
        "# Get English stopwords\n",
        "stop_words = set(stopwords.words('english'))"
      ],
      "metadata": {
        "id": "Z5e7H3UpIwzy"
      },
      "id": "Z5e7H3UpIwzy",
      "execution_count": 24,
      "outputs": []
    },
    {
      "cell_type": "code",
      "execution_count": 25,
      "id": "06eee063",
      "metadata": {
        "id": "06eee063"
      },
      "outputs": [],
      "source": [
        "# Stem words\n",
        "stemmed_sentences = []\n",
        "for sentence in sentences:\n",
        "    words = nltk.word_tokenize(sentence)\n",
        "    stemmed_words = [stemmer.stem(word) for word in words if word.lower() not in stop_words]\n",
        "    stemmed_sentences.append(' '.join(stemmed_words))"
      ]
    },
    {
      "cell_type": "code",
      "source": [
        "# Lemmatize words\n",
        "lemmatized_sentences = []\n",
        "for sentence in sentences:\n",
        "    words = nltk.word_tokenize(sentence)\n",
        "    lemmatized_words = [lemmatizer.lemmatize(word) for word in words if word.lower() not in stop_words]\n",
        "    lemmatized_sentences.append(' '.join(lemmatized_words))"
      ],
      "metadata": {
        "id": "bvoKWHw7I6GS"
      },
      "id": "bvoKWHw7I6GS",
      "execution_count": 26,
      "outputs": []
    },
    {
      "cell_type": "code",
      "execution_count": 27,
      "id": "12d4f199",
      "metadata": {
        "id": "12d4f199"
      },
      "outputs": [],
      "source": [
        "# Part-of-speech tagging\n",
        "pos_tags = nltk.pos_tag(nltk.word_tokenize(para))"
      ]
    },
    {
      "cell_type": "code",
      "source": [
        "# Display help for POS tag 'VBG'\n",
        "nltk.help.upenn_tagset('VBG')"
      ],
      "metadata": {
        "colab": {
          "base_uri": "https://localhost:8080/"
        },
        "id": "_ssLCbmgJgKI",
        "outputId": "ebb1af8e-5d0c-4070-d27b-37482b82cbb2"
      },
      "id": "_ssLCbmgJgKI",
      "execution_count": 28,
      "outputs": [
        {
          "output_type": "stream",
          "name": "stdout",
          "text": [
            "VBG: verb, present participle or gerund\n",
            "    telegraphing stirring focusing angering judging stalling lactating\n",
            "    hankerin' alleging veering capping approaching traveling besieging\n",
            "    encrypting interrupting erasing wincing ...\n"
          ]
        }
      ]
    },
    {
      "cell_type": "code",
      "source": [
        "# Print plural nouns (NNS)\n",
        "plural_nouns = [word for word, pos in pos_tags if pos == 'NNS']\n",
        "print(\"Plural Nouns:\", plural_nouns)"
      ],
      "metadata": {
        "colab": {
          "base_uri": "https://localhost:8080/"
        },
        "id": "BAk13MfbI_fV",
        "outputId": "8031048a-8126-4207-d699-e6aa40a09537"
      },
      "id": "BAk13MfbI_fV",
      "execution_count": 29,
      "outputs": [
        {
          "output_type": "stream",
          "name": "stdout",
          "text": [
            "Plural Nouns: ['stars', 'stars', 'facts', 'stars']\n"
          ]
        }
      ]
    },
    {
      "cell_type": "code",
      "source": [
        "# Display help for POS tag 'VBG'\n",
        "nltk.help.upenn_tagset('VBG')"
      ],
      "metadata": {
        "colab": {
          "base_uri": "https://localhost:8080/"
        },
        "id": "1R-K05bWI_oH",
        "outputId": "b8ec7623-8f8e-47a7-9e51-1ea90b6bbadd"
      },
      "id": "1R-K05bWI_oH",
      "execution_count": 30,
      "outputs": [
        {
          "output_type": "stream",
          "name": "stdout",
          "text": [
            "VBG: verb, present participle or gerund\n",
            "    telegraphing stirring focusing angering judging stalling lactating\n",
            "    hankerin' alleging veering capping approaching traveling besieging\n",
            "    encrypting interrupting erasing wincing ...\n"
          ]
        }
      ]
    },
    {
      "cell_type": "code",
      "source": [
        "# Print results\n",
        "print(\"\\nStemmed Sentences:\\n\", stemmed_sentences)\n",
        "print(\"\\nLemmatized Sentences:\\n\", lemmatized_sentences)"
      ],
      "metadata": {
        "colab": {
          "base_uri": "https://localhost:8080/"
        },
        "id": "BJvKWi50I_xV",
        "outputId": "e9853681-9665-486a-b71f-2c68bd32ecaa"
      },
      "id": "BJvKWi50I_xV",
      "execution_count": 31,
      "outputs": [
        {
          "output_type": "stream",
          "name": "stdout",
          "text": [
            "\n",
            "Stemmed Sentences:\n",
            " ['look beauti sky see star twinkl away .', 'lumin moon dull glow .', 'know star ’ realli twinkl , ’ actual illus ?', 'moon emit light , reflect light sun .', 'let us explor galaxi learn captiv fact moon star']\n",
            "\n",
            "Lemmatized Sentences:\n",
            " ['look beautiful sky see star twinkling away .', 'luminous moon dull glow .', 'know star ’ really twinkle , ’ actually illusion ?', 'moon emit light , reflects light sun .', 'Let u explore galaxy learn captivating fact moon star']\n"
          ]
        }
      ]
    },
    {
      "cell_type": "code",
      "execution_count": null,
      "id": "83b322e0",
      "metadata": {
        "id": "83b322e0"
      },
      "outputs": [],
      "source": []
    }
  ],
  "metadata": {
    "kernelspec": {
      "display_name": "Python 3 (ipykernel)",
      "language": "python",
      "name": "python3"
    },
    "language_info": {
      "codemirror_mode": {
        "name": "ipython",
        "version": 3
      },
      "file_extension": ".py",
      "mimetype": "text/x-python",
      "name": "python",
      "nbconvert_exporter": "python",
      "pygments_lexer": "ipython3",
      "version": "3.11.5"
    },
    "colab": {
      "provenance": []
    }
  },
  "nbformat": 4,
  "nbformat_minor": 5
}